{
 "cells": [
  {
   "cell_type": "code",
   "execution_count": null,
   "metadata": {},
   "outputs": [],
   "source": [
    "import tweepy"
   ]
  },
  {
   "cell_type": "markdown",
   "metadata": {},
   "source": [
    "<h2> Twitter API</h2>"
   ]
  },
  {
   "cell_type": "code",
   "execution_count": null,
   "metadata": {},
   "outputs": [],
   "source": [
    "consumer_key = '8muaRM7Rl1hXLNWixja16fx3B'\n",
    "consumer_secret = '3ZPKaW6ZeDl6uB8Tm8LNlc974jlxEUNkcDFC67WqY1miKNsFKP'\n",
    "access_key = '1162576645-2bSubX0dcIOB54qSoCoNsjnoj6XUvyPmrVS3tsI'\n",
    "access_secret = 'Kt6qFCVsyBxozYQkMM8kiGtpw124l1Pz6XJoNyCbGPLKi'\n"
   ]
  },
  {
   "cell_type": "markdown",
   "metadata": {},
   "source": [
    "<h2>get tweets of specific username </h2>"
   ]
  },
  {
   "cell_type": "code",
   "execution_count": null,
   "metadata": {},
   "outputs": [],
   "source": [
    "tweets_number = 100\n",
    "username = \"elonmusk\"\n"
   ]
  },
  {
   "cell_type": "code",
   "execution_count": null,
   "metadata": {},
   "outputs": [],
   "source": [
    "auth = tweepy.OAuthHandler(consumer_key, consumer_secret)\n",
    "auth.set_access_token(access_key, access_secret)\n",
    "api = tweepy.API(auth)\n",
    "\n",
    "tweets_csv = []\n",
    "for tweet in tweepy.Cursor(api.statuses_lookup, screen_name=username).items(tweets_number):\n",
    "    tweets_csv.append([tweet.text.encode(\"utf-8\")])\n",
    "\n",
    "    "
   ]
  },
  {
   "cell_type": "markdown",
   "metadata": {},
   "source": [
    "<h2> write in csv </h2>\n"
   ]
  },
  {
   "cell_type": "code",
   "execution_count": null,
   "metadata": {},
   "outputs": [],
   "source": [
    "name = './'+username + \"_tweets.csv\"\n",
    "with open(name, 'w+') as file:\n",
    "    writer = csv.writer(file, delimiter=',')\n",
    "    writer.writerows(tweets_csv)\n"
   ]
  }
 ],
 "metadata": {
  "language_info": {
   "name": "python"
  },
  "orig_nbformat": 4
 },
 "nbformat": 4,
 "nbformat_minor": 2
}
